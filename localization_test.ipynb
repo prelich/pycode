{
 "cells": [
  {
   "cell_type": "markdown",
   "metadata": {},
   "source": [
    "# Microscopy Localization"
   ]
  },
  {
   "cell_type": "code",
   "execution_count": 1,
   "metadata": {
    "collapsed": true
   },
   "outputs": [],
   "source": [
    "# import numpy and plot libs\n",
    "import numpy as np\n",
    "import genEmitter as gE\n",
    "import matplotlib.pyplot as plt\n",
    "import scipy.ndimage as nd\n"
   ]
  },
  {
   "cell_type": "code",
   "execution_count": 36,
   "metadata": {
    "collapsed": true
   },
   "outputs": [],
   "source": [
    "# First generate a set of localizations with a center at position 3,3 (in the python index!)\n",
    "zn = np.zeros([1000,7,7])\n",
    "PSFsigma = 1\n",
    "MeanPhot = 200\n",
    "\n",
    "for xx in range(0,999):\n",
    "    tm = gE.genEmitter(MeanPhot,PSFsigma)\n",
    "    zn[xx,:,:] = tm"
   ]
  },
  {
   "cell_type": "code",
   "execution_count": 37,
   "metadata": {
    "collapsed": false
   },
   "outputs": [
    {
     "data": {
      "image/png": "[encoded data removed]",
      "text/plain": [
       "<matplotlib.figure.Figure at 0x27e4731f630>"
      ]
     },
     "metadata": {},
     "output_type": "display_data"
    }
   ],
   "source": [
    "plt.imshow(zn[55])\n",
    "plt.show()"
   ]
  },
  {
   "cell_type": "code",
   "execution_count": 38,
   "metadata": {
    "collapsed": false
   },
   "outputs": [
    {
     "name": "stdout",
     "output_type": "stream",
     "text": [
      "3.01171709367 3.01171709367 98.0181709755 0.369625894557\n"
     ]
    }
   ],
   "source": [
    "# script to generate initial parameters for regression\n",
    "# center of mass of an image with scipy library for x and y estimates\n",
    "tempIm = zn[0,:,:]\n",
    "com = nd.center_of_mass(tempIm)\n",
    "# calculate the minimum and maximum filtered pixel value for bg and I estimates\n",
    "maxPx = 0;\n",
    "minPx = 10e5;\n",
    "\n",
    "# build a Gaussian stencil\n",
    "stensize = np.asarray(tempIm.shape)\n",
    "x0,y0 = stensize-1 # Gaussian centers\n",
    "stensize=stensize*2-1 # guaranteed to always be odd\n",
    "xX, yY = np.arange(stensize[0]), np.arange(stensize[1])\n",
    "\n",
    "gx = np.exp(-(xX-x0)**2/(2*PSFsigma**2))\n",
    "gy = np.exp(-(yY-y0)**2/(2*PSFsigma**2))\n",
    "g = np.outer(gx, gy)\n",
    "g /= np.sum(g)  # normalize,\n",
    "\n",
    "# loop over all elements of ROI\n",
    "winsize = tempIm.shape\n",
    "for ii in range(0,winsize[0]):\n",
    "    for jj in range(0,winsize[1]):\n",
    "        tempGauss = g[ii:ii+winsize[0],jj:jj+winsize[1]]\n",
    "        multMap = tempGauss*tempIm\n",
    "        sumMap = np.sum(multMap)\n",
    "        maxPx = max(maxPx,sumMap)\n",
    "        minPx = min(minPx,sumMap)\n",
    "        \n",
    "I_0 = maxPx*2*np.pi*PSFsigma**2\n",
    "bg_0 = minPx\n",
    "x_0 = com[0]\n",
    "y_0 = com[0]\n",
    "\n",
    "\n",
    "# print out results for debugging.\n",
    "print(x_0,y_0,I_0,bg_0)\n"
   ]
  },
  {
   "cell_type": "code",
   "execution_count": null,
   "metadata": {
    "collapsed": false
   },
   "outputs": [],
   "source": [
    "# write Newton Raphson localization method\n",
    "# define"
   ]
  }
 ],
 "metadata": {
  "kernelspec": {
   "display_name": "Python 3",
   "language": "python",
   "name": "python3"
  },
  "language_info": {
   "codemirror_mode": {
    "name": "ipython",
    "version": 3
   },
   "file_extension": ".py",
   "mimetype": "text/x-python",
   "name": "python",
   "nbconvert_exporter": "python",
   "pygments_lexer": "ipython3",
   "version": "3.6.0"
  }
 },
 "nbformat": 4,
 "nbformat_minor": 2
}
