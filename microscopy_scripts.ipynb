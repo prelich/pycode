{
 "cells": [
  {
   "cell_type": "markdown",
   "metadata": {},
   "source": [
    "# Microscopy Scripts...\n",
    "1) Simulate a Fluorophore and Display it!"
   ]
  },
  {
   "cell_type": "code",
   "execution_count": 1,
   "metadata": {
    "collapsed": false
   },
   "outputs": [],
   "source": [
    "import numpy as np\n",
    "\n",
    "# Define parameter values\n",
    "PSFsigma = 1\n",
    "MeanPhot = 200\n",
    "# Generate 5 sigma of random numbers for emission times\n",
    "sample = int(MeanPhot + np.round(np.sqrt(MeanPhot)*5))\n",
    "rndvals = np.random.rand(sample)\n",
    "# Turn random values into exponentially distributed wait times\n",
    "times = -np.log(1-rndvals)/MeanPhot\n",
    "times = np.cumsum(times)\n",
    "numvals = np.sum(times<1)\n",
    "# generate an x-y list of photon positions\n",
    "x = PSFsigma*np.random.randn(numvals)+4*PSFsigma\n",
    "y = PSFsigma*np.random.randn(numvals)+4*PSFsigma\n",
    "# convert x-y list into a matrix\n",
    "photbins = np.column_stack((x.astype(int),y.astype(int)))\n",
    "# create a blank matrix\n",
    "im = np.zeros([8,8])\n",
    "# loop over each photon and populate the empty matrix with counts\n",
    "for ii in range(0,numvals):\n",
    "    indvar = photbins[ii]\n",
    "    im[indvar[0],indvar[1]]+=1\n",
    "    #print(im[indvar[0],indvar[1]])\n",
    "\n",
    "noyz = np.random.rand(8,8)\n",
    "noyz[noyz<0] = 0.01"
   ]
  },
  {
   "cell_type": "code",
   "execution_count": 2,
   "metadata": {
    "collapsed": false
   },
   "outputs": [
    {
     "data": {
      "image/png": "[encoded data removed]",
      "text/plain": [
       "<matplotlib.figure.Figure at 0x27511a28978>"
      ]
     },
     "metadata": {},
     "output_type": "display_data"
    }
   ],
   "source": [
    "import matplotlib.pyplot as plt\n",
    "import matplotlib.image as mpimg\n",
    "\n",
    "imgplot = plt.imshow(im+noyz)\n",
    "plt.show()"
   ]
  },
  {
   "cell_type": "code",
   "execution_count": 3,
   "metadata": {
    "collapsed": false
   },
   "outputs": [
    {
     "name": "stdout",
     "output_type": "stream",
     "text": [
      "[[  0.   0.   0.   0.   0.   1.   0.   0.]\n",
      " [  0.   0.   0.   1.   4.   1.   0.   0.]\n",
      " [  0.   2.   3.   9.  14.   3.   2.   0.]\n",
      " [  0.   1.   8.  28.  21.  10.   4.   0.]\n",
      " [  0.   1.   6.  22.  20.  15.   1.   0.]\n",
      " [  0.   0.   4.  12.   6.   5.   0.   0.]\n",
      " [  0.   0.   1.   3.   0.   4.   0.   0.]\n",
      " [  0.   0.   0.   0.   1.   0.   0.   0.]]\n"
     ]
    }
   ],
   "source": [
    "print(im)\n",
    "#print(indvar)\n",
    "#print(photpos)"
   ]
  },
  {
   "cell_type": "code",
   "execution_count": 4,
   "metadata": {
    "collapsed": false
   },
   "outputs": [
    {
     "data": {
      "image/png": "[encoded data removed]",
      "text/plain": [
       "<matplotlib.figure.Figure at 0x27513d69fd0>"
      ]
     },
     "metadata": {},
     "output_type": "display_data"
    }
   ],
   "source": [
    "import genEmitter as gE\n",
    "\n",
    "# Define parameter values\n",
    "PSFsigma = 1\n",
    "MeanPhot = 200\n",
    "# call genEmitter function\n",
    "im = gE.genEmitter(MeanPhot,PSFsigma)\n",
    "# plot the fluorophore\n",
    "imgplot2 = plt.imshow(im)\n",
    "plt.show()"
   ]
  },
  {
   "cell_type": "code",
   "execution_count": 5,
   "metadata": {
    "collapsed": false
   },
   "outputs": [
    {
     "data": {
      "image/png": "[encoded data removed]",
      "text/plain": [
       "<matplotlib.figure.Figure at 0x27511a28828>"
      ]
     },
     "metadata": {},
     "output_type": "display_data"
    }
   ],
   "source": [
    "# create a thousand emitters and time it!\n",
    "zn = np.empty([1000,8,8])\n",
    "# create a blank matrix\n",
    "tm = 0*np.empty([8,8])\n",
    "    #tm = gE.genEmitter(MeanPhot,PSFsigma)\n",
    "PSFsigma = 1\n",
    "MeanPhot = 200\n",
    "\n",
    "for xx in range(0,999):\n",
    "    \n",
    "    # Generate 5 sigma of random numbers for emission times\n",
    "    sample = int(MeanPhot + np.round(np.sqrt(MeanPhot)*5))\n",
    "    rndvals = np.random.rand(sample)\n",
    "    # Turn random values into exponentially distributed wait times\n",
    "    times = -np.log(1-rndvals)/MeanPhot\n",
    "    times = np.cumsum(times)\n",
    "    numvals = np.sum(times<1)\n",
    "    # generate an x-y list of photon positions\n",
    "    x = PSFsigma*np.random.randn(numvals)+4*PSFsigma\n",
    "    y = PSFsigma*np.random.randn(numvals)+4*PSFsigma\n",
    "    # convert x-y list into a matrix\n",
    "    photbins = np.column_stack((x.astype(int),y.astype(int)))\n",
    "    \n",
    "    # loop over each photon and populate the empty matrix with counts\n",
    "    for ii in range(0,numvals):\n",
    "        indvar = photbins[ii]\n",
    "        if indvar[0] < 0 or indvar[0] > 7 or indvar[1] < 0 or indvar[1] > 7:\n",
    "            continue\n",
    "        #from IPython.core.debugger import Tracer; Tracer()() \n",
    "        tm[indvar[0],indvar[1]]+=1\n",
    "        zn[xx,:,:] = tm\n",
    "    \n",
    "# plot a random fluorophore\n",
    "imgplot3 = plt.imshow(zn[43])\n",
    "plt.show()"
   ]
  },
  {
   "cell_type": "code",
   "execution_count": 6,
   "metadata": {
    "collapsed": false
   },
   "outputs": [
    {
     "data": {
      "image/png": "[encoded data removed]",
      "text/plain": [
       "<matplotlib.figure.Figure at 0x27513e83e80>"
      ]
     },
     "metadata": {},
     "output_type": "display_data"
    }
   ],
   "source": [
    "# testing the function in a for loop now\n",
    "zn = np.empty([1000,8,8])\n",
    "PSFsigma = 1\n",
    "MeanPhot = 200\n",
    "\n",
    "for xx in range(0,999):\n",
    "    tm = gE.genEmitter(MeanPhot,PSFsigma)\n",
    "    zn[xx,:,:] = tm\n",
    "    \n",
    "# plot a random fluorophore\n",
    "imgplot3 = plt.imshow(zn[329])\n",
    "plt.show()   "
   ]
  },
  {
   "cell_type": "code",
   "execution_count": 7,
   "metadata": {
    "collapsed": false
   },
   "outputs": [
    {
     "data": {
      "image/png": "[encoded data removed]",
      "text/plain": [
       "<matplotlib.figure.Figure at 0x27513e5c358>"
      ]
     },
     "metadata": {},
     "output_type": "display_data"
    }
   ],
   "source": [
    "imgplot4 = plt.imshow(zn[5])\n",
    "plt.show()"
   ]
  },
  {
   "cell_type": "code",
   "execution_count": null,
   "metadata": {
    "collapsed": false
   },
   "outputs": [],
   "source": []
  }
 ],
 "metadata": {
  "kernelspec": {
   "display_name": "Python 3",
   "language": "python",
   "name": "python3"
  },
  "language_info": {
   "codemirror_mode": {
    "name": "ipython",
    "version": 3
   },
   "file_extension": ".py",
   "mimetype": "text/x-python",
   "name": "python",
   "nbconvert_exporter": "python",
   "pygments_lexer": "ipython3",
   "version": "3.6.0"
  }
 },
 "nbformat": 4,
 "nbformat_minor": 2
}
